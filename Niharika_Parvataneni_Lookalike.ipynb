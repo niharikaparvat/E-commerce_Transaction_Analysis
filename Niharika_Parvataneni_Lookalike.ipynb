{
 "cells": [
  {
   "cell_type": "markdown",
   "id": "0406ab0f",
   "metadata": {},
   "source": [
    "# Task 2: Lookalike Model\n"
   ]
  },
  {
   "cell_type": "code",
   "execution_count": 29,
   "id": "a4b490df",
   "metadata": {},
   "outputs": [],
   "source": [
    "import pandas as pd"
   ]
  },
  {
   "cell_type": "markdown",
   "id": "dc119353",
   "metadata": {},
   "source": [
    "### **Load the datasets**"
   ]
  },
  {
   "cell_type": "code",
   "execution_count": 30,
   "id": "e2af1400",
   "metadata": {},
   "outputs": [],
   "source": [
    "customers_df = pd.read_csv('Customers.csv')\n",
    "products_df = pd.read_csv('Products.csv')\n",
    "transactions_df = pd.read_csv('Transactions.csv')"
   ]
  },
  {
   "cell_type": "markdown",
   "id": "95f75427",
   "metadata": {},
   "source": [
    "### **Merge transaction data with customer and product data**"
   ]
  },
  {
   "cell_type": "code",
   "execution_count": 45,
   "id": "7c4e2b6c",
   "metadata": {},
   "outputs": [],
   "source": [
    "customer_transactions_df = pd.merge(transactions_df, customers_df, on='CustomerID', how='inner')\n",
    "customer_transactions_df = pd.merge(customer_transactions_df, products_df, on='ProductID', how='inner')"
   ]
  },
  {
   "cell_type": "markdown",
   "id": "06895533",
   "metadata": {},
   "source": [
    "### **Preview the data**"
   ]
  },
  {
   "cell_type": "code",
   "execution_count": 33,
   "id": "cbfa4fa4",
   "metadata": {},
   "outputs": [
    {
     "data": {
      "text/html": [
       "<div>\n",
       "<style scoped>\n",
       "    .dataframe tbody tr th:only-of-type {\n",
       "        vertical-align: middle;\n",
       "    }\n",
       "\n",
       "    .dataframe tbody tr th {\n",
       "        vertical-align: top;\n",
       "    }\n",
       "\n",
       "    .dataframe thead th {\n",
       "        text-align: right;\n",
       "    }\n",
       "</style>\n",
       "<table border=\"1\" class=\"dataframe\">\n",
       "  <thead>\n",
       "    <tr style=\"text-align: right;\">\n",
       "      <th></th>\n",
       "      <th>TransactionID</th>\n",
       "      <th>CustomerID</th>\n",
       "      <th>ProductID</th>\n",
       "      <th>TransactionDate</th>\n",
       "      <th>Quantity</th>\n",
       "      <th>TotalValue</th>\n",
       "      <th>Price_x</th>\n",
       "      <th>CustomerName</th>\n",
       "      <th>Region</th>\n",
       "      <th>SignupDate</th>\n",
       "      <th>ProductName</th>\n",
       "      <th>Category</th>\n",
       "      <th>Price_y</th>\n",
       "    </tr>\n",
       "  </thead>\n",
       "  <tbody>\n",
       "    <tr>\n",
       "      <th>0</th>\n",
       "      <td>T00001</td>\n",
       "      <td>C0199</td>\n",
       "      <td>P067</td>\n",
       "      <td>2024-08-25 12:38:23</td>\n",
       "      <td>1</td>\n",
       "      <td>300.68</td>\n",
       "      <td>300.68</td>\n",
       "      <td>Andrea Jenkins</td>\n",
       "      <td>Europe</td>\n",
       "      <td>2022-12-03</td>\n",
       "      <td>ComfortLiving Bluetooth Speaker</td>\n",
       "      <td>Electronics</td>\n",
       "      <td>300.68</td>\n",
       "    </tr>\n",
       "    <tr>\n",
       "      <th>1</th>\n",
       "      <td>T00112</td>\n",
       "      <td>C0146</td>\n",
       "      <td>P067</td>\n",
       "      <td>2024-05-27 22:23:54</td>\n",
       "      <td>1</td>\n",
       "      <td>300.68</td>\n",
       "      <td>300.68</td>\n",
       "      <td>Brittany Harvey</td>\n",
       "      <td>Asia</td>\n",
       "      <td>2024-09-04</td>\n",
       "      <td>ComfortLiving Bluetooth Speaker</td>\n",
       "      <td>Electronics</td>\n",
       "      <td>300.68</td>\n",
       "    </tr>\n",
       "    <tr>\n",
       "      <th>2</th>\n",
       "      <td>T00166</td>\n",
       "      <td>C0127</td>\n",
       "      <td>P067</td>\n",
       "      <td>2024-04-25 07:38:55</td>\n",
       "      <td>1</td>\n",
       "      <td>300.68</td>\n",
       "      <td>300.68</td>\n",
       "      <td>Kathryn Stevens</td>\n",
       "      <td>Europe</td>\n",
       "      <td>2024-04-04</td>\n",
       "      <td>ComfortLiving Bluetooth Speaker</td>\n",
       "      <td>Electronics</td>\n",
       "      <td>300.68</td>\n",
       "    </tr>\n",
       "    <tr>\n",
       "      <th>3</th>\n",
       "      <td>T00272</td>\n",
       "      <td>C0087</td>\n",
       "      <td>P067</td>\n",
       "      <td>2024-03-26 22:55:37</td>\n",
       "      <td>2</td>\n",
       "      <td>601.36</td>\n",
       "      <td>300.68</td>\n",
       "      <td>Travis Campbell</td>\n",
       "      <td>South America</td>\n",
       "      <td>2024-04-11</td>\n",
       "      <td>ComfortLiving Bluetooth Speaker</td>\n",
       "      <td>Electronics</td>\n",
       "      <td>300.68</td>\n",
       "    </tr>\n",
       "    <tr>\n",
       "      <th>4</th>\n",
       "      <td>T00363</td>\n",
       "      <td>C0070</td>\n",
       "      <td>P067</td>\n",
       "      <td>2024-03-21 15:10:10</td>\n",
       "      <td>3</td>\n",
       "      <td>902.04</td>\n",
       "      <td>300.68</td>\n",
       "      <td>Timothy Perez</td>\n",
       "      <td>Europe</td>\n",
       "      <td>2022-03-15</td>\n",
       "      <td>ComfortLiving Bluetooth Speaker</td>\n",
       "      <td>Electronics</td>\n",
       "      <td>300.68</td>\n",
       "    </tr>\n",
       "  </tbody>\n",
       "</table>\n",
       "</div>"
      ],
      "text/plain": [
       "  TransactionID CustomerID ProductID      TransactionDate  Quantity  \\\n",
       "0        T00001      C0199      P067  2024-08-25 12:38:23         1   \n",
       "1        T00112      C0146      P067  2024-05-27 22:23:54         1   \n",
       "2        T00166      C0127      P067  2024-04-25 07:38:55         1   \n",
       "3        T00272      C0087      P067  2024-03-26 22:55:37         2   \n",
       "4        T00363      C0070      P067  2024-03-21 15:10:10         3   \n",
       "\n",
       "   TotalValue  Price_x     CustomerName         Region  SignupDate  \\\n",
       "0      300.68   300.68   Andrea Jenkins         Europe  2022-12-03   \n",
       "1      300.68   300.68  Brittany Harvey           Asia  2024-09-04   \n",
       "2      300.68   300.68  Kathryn Stevens         Europe  2024-04-04   \n",
       "3      601.36   300.68  Travis Campbell  South America  2024-04-11   \n",
       "4      902.04   300.68    Timothy Perez         Europe  2022-03-15   \n",
       "\n",
       "                       ProductName     Category  Price_y  \n",
       "0  ComfortLiving Bluetooth Speaker  Electronics   300.68  \n",
       "1  ComfortLiving Bluetooth Speaker  Electronics   300.68  \n",
       "2  ComfortLiving Bluetooth Speaker  Electronics   300.68  \n",
       "3  ComfortLiving Bluetooth Speaker  Electronics   300.68  \n",
       "4  ComfortLiving Bluetooth Speaker  Electronics   300.68  "
      ]
     },
     "execution_count": 33,
     "metadata": {},
     "output_type": "execute_result"
    }
   ],
   "source": [
    "customer_transactions_df.head()"
   ]
  },
  {
   "cell_type": "markdown",
   "id": "fec2263d",
   "metadata": {},
   "source": [
    "### **Aggregate data by customer to create features**"
   ]
  },
  {
   "cell_type": "code",
   "execution_count": 34,
   "id": "4eaeacc5",
   "metadata": {},
   "outputs": [],
   "source": [
    "customer_summary = customer_transactions_df.groupby('CustomerID').agg(\n",
    "    total_spend=('TotalValue', 'sum'),\n",
    "    total_products_bought=('Quantity', 'sum'),\n",
    "    frequent_category=('Category', lambda x: x.mode()[0]),\n",
    "    last_purchase_date=('TransactionDate', 'max')\n",
    ").reset_index()"
   ]
  },
  {
   "cell_type": "markdown",
   "id": "3e8624ca",
   "metadata": {},
   "source": [
    "### **Add recency feature: Time since last purchase (in days)**"
   ]
  },
  {
   "cell_type": "code",
   "execution_count": null,
   "id": "c8d84773",
   "metadata": {},
   "outputs": [],
   "source": [
    "customer_summary['recency'] = (pd.to_datetime('today') - pd.to_datetime(customer_summary['last_purchase_date'])).dt.days"
   ]
  },
  {
   "cell_type": "markdown",
   "id": "838bb03b",
   "metadata": {},
   "source": [
    "### **Display the customer summary with features**"
   ]
  },
  {
   "cell_type": "code",
   "execution_count": 14,
   "id": "06aa17d4",
   "metadata": {},
   "outputs": [
    {
     "data": {
      "text/html": [
       "<div>\n",
       "<style scoped>\n",
       "    .dataframe tbody tr th:only-of-type {\n",
       "        vertical-align: middle;\n",
       "    }\n",
       "\n",
       "    .dataframe tbody tr th {\n",
       "        vertical-align: top;\n",
       "    }\n",
       "\n",
       "    .dataframe thead th {\n",
       "        text-align: right;\n",
       "    }\n",
       "</style>\n",
       "<table border=\"1\" class=\"dataframe\">\n",
       "  <thead>\n",
       "    <tr style=\"text-align: right;\">\n",
       "      <th></th>\n",
       "      <th>CustomerID</th>\n",
       "      <th>total_spend</th>\n",
       "      <th>total_products_bought</th>\n",
       "      <th>frequent_category</th>\n",
       "      <th>last_purchase_date</th>\n",
       "      <th>recency</th>\n",
       "    </tr>\n",
       "  </thead>\n",
       "  <tbody>\n",
       "    <tr>\n",
       "      <th>0</th>\n",
       "      <td>C0001</td>\n",
       "      <td>3354.52</td>\n",
       "      <td>12</td>\n",
       "      <td>Electronics</td>\n",
       "      <td>2024-11-02 17:04:16</td>\n",
       "      <td>86</td>\n",
       "    </tr>\n",
       "    <tr>\n",
       "      <th>1</th>\n",
       "      <td>C0002</td>\n",
       "      <td>1862.74</td>\n",
       "      <td>10</td>\n",
       "      <td>Clothing</td>\n",
       "      <td>2024-12-03 01:41:41</td>\n",
       "      <td>55</td>\n",
       "    </tr>\n",
       "    <tr>\n",
       "      <th>2</th>\n",
       "      <td>C0003</td>\n",
       "      <td>2725.38</td>\n",
       "      <td>14</td>\n",
       "      <td>Home Decor</td>\n",
       "      <td>2024-08-24 18:54:04</td>\n",
       "      <td>155</td>\n",
       "    </tr>\n",
       "    <tr>\n",
       "      <th>3</th>\n",
       "      <td>C0004</td>\n",
       "      <td>5354.88</td>\n",
       "      <td>23</td>\n",
       "      <td>Books</td>\n",
       "      <td>2024-12-23 14:13:52</td>\n",
       "      <td>35</td>\n",
       "    </tr>\n",
       "    <tr>\n",
       "      <th>4</th>\n",
       "      <td>C0005</td>\n",
       "      <td>2034.24</td>\n",
       "      <td>7</td>\n",
       "      <td>Electronics</td>\n",
       "      <td>2024-11-04 00:30:22</td>\n",
       "      <td>84</td>\n",
       "    </tr>\n",
       "  </tbody>\n",
       "</table>\n",
       "</div>"
      ],
      "text/plain": [
       "  CustomerID  total_spend  total_products_bought frequent_category  \\\n",
       "0      C0001      3354.52                     12       Electronics   \n",
       "1      C0002      1862.74                     10          Clothing   \n",
       "2      C0003      2725.38                     14        Home Decor   \n",
       "3      C0004      5354.88                     23             Books   \n",
       "4      C0005      2034.24                      7       Electronics   \n",
       "\n",
       "    last_purchase_date  recency  \n",
       "0  2024-11-02 17:04:16       86  \n",
       "1  2024-12-03 01:41:41       55  \n",
       "2  2024-08-24 18:54:04      155  \n",
       "3  2024-12-23 14:13:52       35  \n",
       "4  2024-11-04 00:30:22       84  "
      ]
     },
     "execution_count": 14,
     "metadata": {},
     "output_type": "execute_result"
    }
   ],
   "source": [
    "customer_summary.head()"
   ]
  },
  {
   "cell_type": "markdown",
   "id": "9b3a1532",
   "metadata": {},
   "source": [
    "### **Aggregate data by customer to create features, including Region**"
   ]
  },
  {
   "cell_type": "code",
   "execution_count": 35,
   "id": "921a06f2",
   "metadata": {},
   "outputs": [],
   "source": [
    "customer_summary = customer_transactions_df.groupby('CustomerID').agg(\n",
    "    total_spend=('TotalValue', 'sum'),\n",
    "    total_products_bought=('Quantity', 'sum'),\n",
    "    frequent_category=('Category', lambda x: x.mode()[0]),\n",
    "    last_purchase_date=('TransactionDate', 'max')\n",
    ").reset_index()"
   ]
  },
  {
   "cell_type": "markdown",
   "id": "95bfcfb0",
   "metadata": {},
   "source": [
    "### **Merge back the 'Region' column from customers_df**"
   ]
  },
  {
   "cell_type": "code",
   "execution_count": 36,
   "id": "c64dcc9f",
   "metadata": {},
   "outputs": [],
   "source": [
    "customer_summary = pd.merge(customer_summary, customers_df[['CustomerID', 'Region']], on='CustomerID', how='left')"
   ]
  },
  {
   "cell_type": "markdown",
   "id": "447cbd78",
   "metadata": {},
   "source": [
    "### **Add recency feature: Time since last purchase (in days)**"
   ]
  },
  {
   "cell_type": "code",
   "execution_count": 37,
   "id": "ab9fb973",
   "metadata": {},
   "outputs": [],
   "source": [
    "customer_summary['recency'] = (pd.to_datetime('today') - pd.to_datetime(customer_summary['last_purchase_date'])).dt.days"
   ]
  },
  {
   "cell_type": "markdown",
   "id": "1db05829",
   "metadata": {},
   "source": [
    "### **Display the customer summary with features including Region**"
   ]
  },
  {
   "cell_type": "code",
   "execution_count": 38,
   "id": "c20c1389",
   "metadata": {},
   "outputs": [
    {
     "data": {
      "text/html": [
       "<div>\n",
       "<style scoped>\n",
       "    .dataframe tbody tr th:only-of-type {\n",
       "        vertical-align: middle;\n",
       "    }\n",
       "\n",
       "    .dataframe tbody tr th {\n",
       "        vertical-align: top;\n",
       "    }\n",
       "\n",
       "    .dataframe thead th {\n",
       "        text-align: right;\n",
       "    }\n",
       "</style>\n",
       "<table border=\"1\" class=\"dataframe\">\n",
       "  <thead>\n",
       "    <tr style=\"text-align: right;\">\n",
       "      <th></th>\n",
       "      <th>CustomerID</th>\n",
       "      <th>total_spend</th>\n",
       "      <th>total_products_bought</th>\n",
       "      <th>frequent_category</th>\n",
       "      <th>last_purchase_date</th>\n",
       "      <th>Region</th>\n",
       "      <th>recency</th>\n",
       "    </tr>\n",
       "  </thead>\n",
       "  <tbody>\n",
       "    <tr>\n",
       "      <th>0</th>\n",
       "      <td>C0001</td>\n",
       "      <td>3354.52</td>\n",
       "      <td>12</td>\n",
       "      <td>Electronics</td>\n",
       "      <td>2024-11-02 17:04:16</td>\n",
       "      <td>South America</td>\n",
       "      <td>86</td>\n",
       "    </tr>\n",
       "    <tr>\n",
       "      <th>1</th>\n",
       "      <td>C0002</td>\n",
       "      <td>1862.74</td>\n",
       "      <td>10</td>\n",
       "      <td>Clothing</td>\n",
       "      <td>2024-12-03 01:41:41</td>\n",
       "      <td>Asia</td>\n",
       "      <td>55</td>\n",
       "    </tr>\n",
       "    <tr>\n",
       "      <th>2</th>\n",
       "      <td>C0003</td>\n",
       "      <td>2725.38</td>\n",
       "      <td>14</td>\n",
       "      <td>Home Decor</td>\n",
       "      <td>2024-08-24 18:54:04</td>\n",
       "      <td>South America</td>\n",
       "      <td>156</td>\n",
       "    </tr>\n",
       "    <tr>\n",
       "      <th>3</th>\n",
       "      <td>C0004</td>\n",
       "      <td>5354.88</td>\n",
       "      <td>23</td>\n",
       "      <td>Books</td>\n",
       "      <td>2024-12-23 14:13:52</td>\n",
       "      <td>South America</td>\n",
       "      <td>35</td>\n",
       "    </tr>\n",
       "    <tr>\n",
       "      <th>4</th>\n",
       "      <td>C0005</td>\n",
       "      <td>2034.24</td>\n",
       "      <td>7</td>\n",
       "      <td>Electronics</td>\n",
       "      <td>2024-11-04 00:30:22</td>\n",
       "      <td>Asia</td>\n",
       "      <td>84</td>\n",
       "    </tr>\n",
       "  </tbody>\n",
       "</table>\n",
       "</div>"
      ],
      "text/plain": [
       "  CustomerID  total_spend  total_products_bought frequent_category  \\\n",
       "0      C0001      3354.52                     12       Electronics   \n",
       "1      C0002      1862.74                     10          Clothing   \n",
       "2      C0003      2725.38                     14        Home Decor   \n",
       "3      C0004      5354.88                     23             Books   \n",
       "4      C0005      2034.24                      7       Electronics   \n",
       "\n",
       "    last_purchase_date         Region  recency  \n",
       "0  2024-11-02 17:04:16  South America       86  \n",
       "1  2024-12-03 01:41:41           Asia       55  \n",
       "2  2024-08-24 18:54:04  South America      156  \n",
       "3  2024-12-23 14:13:52  South America       35  \n",
       "4  2024-11-04 00:30:22           Asia       84  "
      ]
     },
     "execution_count": 38,
     "metadata": {},
     "output_type": "execute_result"
    }
   ],
   "source": [
    "customer_summary.head()"
   ]
  },
  {
   "cell_type": "markdown",
   "id": "0324871c",
   "metadata": {},
   "source": [
    "### **Apply transformations: Standardize numerical features, OneHotEncode categorical ones**"
   ]
  },
  {
   "cell_type": "code",
   "execution_count": 39,
   "id": "ee5b171d",
   "metadata": {},
   "outputs": [],
   "source": [
    "preprocessor = ColumnTransformer(\n",
    "    transformers=[\n",
    "        ('num', StandardScaler(), numerical_features),\n",
    "        ('cat', OneHotEncoder(), categorical_features)\n",
    "    ])"
   ]
  },
  {
   "cell_type": "markdown",
   "id": "86c35914",
   "metadata": {},
   "source": [
    "### **Fit the transformations and apply them**"
   ]
  },
  {
   "cell_type": "code",
   "execution_count": 40,
   "id": "a0e3708d",
   "metadata": {},
   "outputs": [],
   "source": [
    "X = preprocessor.fit_transform(customer_summary)"
   ]
  },
  {
   "cell_type": "markdown",
   "id": "852ba7d9",
   "metadata": {},
   "source": [
    "### **Calculate the cosine similarity matrix**"
   ]
  },
  {
   "cell_type": "code",
   "execution_count": 42,
   "id": "31c99dd2",
   "metadata": {},
   "outputs": [],
   "source": [
    "cosine_sim = cosine_similarity(X)"
   ]
  },
  {
   "cell_type": "code",
   "execution_count": 43,
   "id": "02ebecc1",
   "metadata": {},
   "outputs": [],
   "source": [
    "def get_top_3_similar(customers_df, cosine_sim):\n",
    "    lookalike_map = {}\n",
    "    # Get the first 20 customers from customers_df\n",
    "    first_20_customers = customers_df.head(20)\n",
    "    # Loop over the first 20 customers and print their CustomerID\n",
    "    for i, customer_id in enumerate(first_20_customers['CustomerID']):\n",
    "        # Get similarity scores for the current customer (excluding self-comparison)\n",
    "        similarity_scores = list(enumerate(cosine_sim[i]))\n",
    "        similarity_scores = sorted(similarity_scores, key=lambda x: x[1], reverse=True)[1:4]  # Exclude self\n",
    "        # Create a list of the top 3 customers and their similarity scores\n",
    "        top_3_customers = [(customers_df['CustomerID'][idx], score) for idx, score in similarity_scores]\n",
    "        lookalike_map[customer_id] = top_3_customers\n",
    "    return lookalike_map"
   ]
  },
  {
   "cell_type": "markdown",
   "id": "851ddb15",
   "metadata": {},
   "source": [
    "### **Get the top 3 lookalikes for each customer**"
   ]
  },
  {
   "cell_type": "code",
   "execution_count": 48,
   "id": "ce07a98a",
   "metadata": {},
   "outputs": [],
   "source": [
    "lookalike_map = get_top_3_similar(customer_summary, cosine_sim)"
   ]
  },
  {
   "cell_type": "markdown",
   "id": "c05f6d54",
   "metadata": {},
   "source": [
    "### **Convert lookalike map to DataFrame and save to CSV**"
   ]
  },
  {
   "cell_type": "code",
   "execution_count": 49,
   "id": "3ce6982b",
   "metadata": {},
   "outputs": [],
   "source": [
    "lookalike_df = pd.DataFrame([(key, value) for key, value in lookalike_map.items()], columns=['CustomerID', 'Lookalikes'])"
   ]
  },
  {
   "cell_type": "markdown",
   "id": "a3db1fe1",
   "metadata": {},
   "source": [
    "### **Preview the first 20 lookalikes**"
   ]
  },
  {
   "cell_type": "code",
   "execution_count": 50,
   "id": "28167c6a",
   "metadata": {},
   "outputs": [
    {
     "data": {
      "text/html": [
       "<div>\n",
       "<style scoped>\n",
       "    .dataframe tbody tr th:only-of-type {\n",
       "        vertical-align: middle;\n",
       "    }\n",
       "\n",
       "    .dataframe tbody tr th {\n",
       "        vertical-align: top;\n",
       "    }\n",
       "\n",
       "    .dataframe thead th {\n",
       "        text-align: right;\n",
       "    }\n",
       "</style>\n",
       "<table border=\"1\" class=\"dataframe\">\n",
       "  <thead>\n",
       "    <tr style=\"text-align: right;\">\n",
       "      <th></th>\n",
       "      <th>CustomerID</th>\n",
       "      <th>Lookalikes</th>\n",
       "    </tr>\n",
       "  </thead>\n",
       "  <tbody>\n",
       "    <tr>\n",
       "      <th>0</th>\n",
       "      <td>C0001</td>\n",
       "      <td>[(C0048, 0.9430113822024848), (C0190, 0.904352...</td>\n",
       "    </tr>\n",
       "    <tr>\n",
       "      <th>1</th>\n",
       "      <td>C0002</td>\n",
       "      <td>[(C0088, 0.992653988273535), (C0092, 0.9354717...</td>\n",
       "    </tr>\n",
       "    <tr>\n",
       "      <th>2</th>\n",
       "      <td>C0003</td>\n",
       "      <td>[(C0052, 0.9191981132314003), (C0025, 0.832750...</td>\n",
       "    </tr>\n",
       "    <tr>\n",
       "      <th>3</th>\n",
       "      <td>C0004</td>\n",
       "      <td>[(C0169, 0.980271934704057), (C0165, 0.9722075...</td>\n",
       "    </tr>\n",
       "    <tr>\n",
       "      <th>4</th>\n",
       "      <td>C0005</td>\n",
       "      <td>[(C0186, 0.993371250274052), (C0140, 0.9802782...</td>\n",
       "    </tr>\n",
       "    <tr>\n",
       "      <th>5</th>\n",
       "      <td>C0006</td>\n",
       "      <td>[(C0187, 0.9854786287526796), (C0168, 0.955264...</td>\n",
       "    </tr>\n",
       "    <tr>\n",
       "      <th>6</th>\n",
       "      <td>C0007</td>\n",
       "      <td>[(C0140, 0.8901442000178618), (C0186, 0.871736...</td>\n",
       "    </tr>\n",
       "    <tr>\n",
       "      <th>7</th>\n",
       "      <td>C0008</td>\n",
       "      <td>[(C0065, 0.84998286628516), (C0059, 0.78591301...</td>\n",
       "    </tr>\n",
       "    <tr>\n",
       "      <th>8</th>\n",
       "      <td>C0009</td>\n",
       "      <td>[(C0198, 0.9989885857351463), (C0103, 0.933237...</td>\n",
       "    </tr>\n",
       "    <tr>\n",
       "      <th>9</th>\n",
       "      <td>C0010</td>\n",
       "      <td>[(C0111, 0.9167406175011905), (C0061, 0.861985...</td>\n",
       "    </tr>\n",
       "    <tr>\n",
       "      <th>10</th>\n",
       "      <td>C0011</td>\n",
       "      <td>[(C0137, 0.9748699739227992), (C0147, 0.966290...</td>\n",
       "    </tr>\n",
       "    <tr>\n",
       "      <th>11</th>\n",
       "      <td>C0012</td>\n",
       "      <td>[(C0113, 0.9561269084428765), (C0195, 0.941437...</td>\n",
       "    </tr>\n",
       "    <tr>\n",
       "      <th>12</th>\n",
       "      <td>C0013</td>\n",
       "      <td>[(C0099, 0.9607251738891167), (C0108, 0.936638...</td>\n",
       "    </tr>\n",
       "    <tr>\n",
       "      <th>13</th>\n",
       "      <td>C0014</td>\n",
       "      <td>[(C0110, 0.9498265678270625), (C0080, 0.944031...</td>\n",
       "    </tr>\n",
       "    <tr>\n",
       "      <th>14</th>\n",
       "      <td>C0015</td>\n",
       "      <td>[(C0036, 0.9284544460420309), (C0094, 0.904476...</td>\n",
       "    </tr>\n",
       "    <tr>\n",
       "      <th>15</th>\n",
       "      <td>C0016</td>\n",
       "      <td>[(C0183, 0.9771406136469445), (C0067, 0.879260...</td>\n",
       "    </tr>\n",
       "    <tr>\n",
       "      <th>16</th>\n",
       "      <td>C0017</td>\n",
       "      <td>[(C0041, 0.9690937653498751), (C0075, 0.961178...</td>\n",
       "    </tr>\n",
       "    <tr>\n",
       "      <th>17</th>\n",
       "      <td>C0018</td>\n",
       "      <td>[(C0046, 0.9092940156402299), (C0117, 0.859197...</td>\n",
       "    </tr>\n",
       "    <tr>\n",
       "      <th>18</th>\n",
       "      <td>C0019</td>\n",
       "      <td>[(C0132, 0.9518973228320129), (C0167, 0.909031...</td>\n",
       "    </tr>\n",
       "    <tr>\n",
       "      <th>19</th>\n",
       "      <td>C0020</td>\n",
       "      <td>[(C0058, 0.948140636532881), (C0144, 0.9094339...</td>\n",
       "    </tr>\n",
       "  </tbody>\n",
       "</table>\n",
       "</div>"
      ],
      "text/plain": [
       "   CustomerID                                         Lookalikes\n",
       "0       C0001  [(C0048, 0.9430113822024848), (C0190, 0.904352...\n",
       "1       C0002  [(C0088, 0.992653988273535), (C0092, 0.9354717...\n",
       "2       C0003  [(C0052, 0.9191981132314003), (C0025, 0.832750...\n",
       "3       C0004  [(C0169, 0.980271934704057), (C0165, 0.9722075...\n",
       "4       C0005  [(C0186, 0.993371250274052), (C0140, 0.9802782...\n",
       "5       C0006  [(C0187, 0.9854786287526796), (C0168, 0.955264...\n",
       "6       C0007  [(C0140, 0.8901442000178618), (C0186, 0.871736...\n",
       "7       C0008  [(C0065, 0.84998286628516), (C0059, 0.78591301...\n",
       "8       C0009  [(C0198, 0.9989885857351463), (C0103, 0.933237...\n",
       "9       C0010  [(C0111, 0.9167406175011905), (C0061, 0.861985...\n",
       "10      C0011  [(C0137, 0.9748699739227992), (C0147, 0.966290...\n",
       "11      C0012  [(C0113, 0.9561269084428765), (C0195, 0.941437...\n",
       "12      C0013  [(C0099, 0.9607251738891167), (C0108, 0.936638...\n",
       "13      C0014  [(C0110, 0.9498265678270625), (C0080, 0.944031...\n",
       "14      C0015  [(C0036, 0.9284544460420309), (C0094, 0.904476...\n",
       "15      C0016  [(C0183, 0.9771406136469445), (C0067, 0.879260...\n",
       "16      C0017  [(C0041, 0.9690937653498751), (C0075, 0.961178...\n",
       "17      C0018  [(C0046, 0.9092940156402299), (C0117, 0.859197...\n",
       "18      C0019  [(C0132, 0.9518973228320129), (C0167, 0.909031...\n",
       "19      C0020  [(C0058, 0.948140636532881), (C0144, 0.9094339..."
      ]
     },
     "execution_count": 50,
     "metadata": {},
     "output_type": "execute_result"
    }
   ],
   "source": [
    "lookalike_df.head(20)"
   ]
  },
  {
   "cell_type": "markdown",
   "id": "af9c45a9",
   "metadata": {},
   "source": [
    "### **Save to CSV**"
   ]
  },
  {
   "cell_type": "code",
   "execution_count": 51,
   "id": "cb986ff0",
   "metadata": {},
   "outputs": [],
   "source": [
    "lookalike_df.to_csv('Lookalike.csv', index=False)"
   ]
  }
 ],
 "metadata": {
  "kernelspec": {
   "display_name": "Python 3 (ipykernel)",
   "language": "python",
   "name": "python3"
  },
  "language_info": {
   "codemirror_mode": {
    "name": "ipython",
    "version": 3
   },
   "file_extension": ".py",
   "mimetype": "text/x-python",
   "name": "python",
   "nbconvert_exporter": "python",
   "pygments_lexer": "ipython3",
   "version": "3.11.5"
  }
 },
 "nbformat": 4,
 "nbformat_minor": 5
}
